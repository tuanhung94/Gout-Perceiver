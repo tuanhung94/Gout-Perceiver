{
 "cells": [
  {
   "cell_type": "code",
   "execution_count": 1,
   "id": "aabbb84b",
   "metadata": {},
   "outputs": [],
   "source": [
    "import os\n",
    "\n",
    "import pandas as pd\n",
    "\n",
    "import numpy as np\n",
    "\n",
    "import torch\n",
    "\n",
    "from torch import tensor\n",
    "\n",
    "from torch.utils import data\n",
    "\n",
    "from pandas_plink import read_plink1_bin\n",
    "\n",
    "import math"
   ]
  },
  {
   "cell_type": "code",
   "execution_count": 2,
   "id": "79e8c9dd",
   "metadata": {},
   "outputs": [],
   "source": [
    "# conda install -c conda-forge pandas-plink"
   ]
  },
  {
   "cell_type": "code",
   "execution_count": 3,
   "id": "05e9751c",
   "metadata": {},
   "outputs": [
    {
     "name": "stderr",
     "output_type": "stream",
     "text": [
      "Mapping files: 100%|█████████████████████████████████████████████████████████████████████| 3/3 [00:00<00:00, 68.23it/s]\n"
     ]
    }
   ],
   "source": [
    "%run SNV_Encoding.ipynb"
   ]
  },
  {
   "cell_type": "markdown",
   "id": "00e91419",
   "metadata": {},
   "source": [
    "## Define a class for the tokenised SNV dataset along with some related information"
   ]
  },
  {
   "cell_type": "code",
   "execution_count": 4,
   "id": "f03c3521",
   "metadata": {},
   "outputs": [],
   "source": [
    "class Tokenised_SNV:\n",
    "    \n",
    "    def __init__(self, geno, encoding: int = 2):\n",
    "    \n",
    "        if encoding == 4:\n",
    "        \n",
    "            token_matrix, diff_mat, non_ref_mat, diff_lens, string_to_tok, tok_to_string, num_toks = get_token_matrix(geno, encoding)\n",
    "        \n",
    "            self.diff_alleles_mat = torch.from_numpy(diff_mat)\n",
    "        \n",
    "            self.non_ref_alleles_mat = torch.from_numpy(non_ref_mat)\n",
    "        \n",
    "            self.diff_lens_mat = torch.from_numpy(diff_lens)\n",
    "        \n",
    "        elif encoding != 4:\n",
    "        \n",
    "            token_matrix, string_to_tok, tok_to_string, num_toks = get_token_matrix(geno, encoding)\n",
    "        \n",
    "        self.token_matrix = token_matrix\n",
    "    \n",
    "        self.string_to_tok = string_to_tok\n",
    "    \n",
    "        self.tok_to_string = tok_to_string\n",
    "    \n",
    "        self.num_toks = num_toks\n",
    "    \n",
    "        self.snp_ids = geno.snp.values\n",
    "    \n",
    "        self.ids = geno.iid.values  \n",
    "        "
   ]
  },
  {
   "cell_type": "markdown",
   "id": "cdc5824b",
   "metadata": {},
   "source": [
    "## Loading in the SNV and phenotype datasets"
   ]
  },
  {
   "cell_type": "code",
   "execution_count": 5,
   "id": "4fa73bf0",
   "metadata": {},
   "outputs": [],
   "source": [
    "def read_geno_files(encoding: int = 2, test_prop = 0.25, verify_prop = 0.05, subsample_control = False, remove_nan = True):\n",
    "    \n",
    "    bed_file = \"test_logical.bed\"\n",
    "    \n",
    "    bim_file = \"test_logical.bim\"\n",
    "    \n",
    "    fam_file = \"test_logical.fam\"\n",
    "    \n",
    "    # Load in genomic files containing SNV data\n",
    "    \n",
    "    geno = read_plink1_bin(bed_file, bim_file, fam_file)\n",
    "    \n",
    "    # Load in the phenotype information\n",
    "    \n",
    "    phenotypes = pd.read_csv(\"logical_sim_phenos.csv\")\n",
    "    \n",
    "    # Obtain for ids for each pre-training, training, testing and verifying set\n",
    "    \n",
    "    train_ids, test_ids, verify_ids = get_ids_each_set(phenotypes, test_prop, verify_prop)\n",
    "    \n",
    "    if subsample_control:\n",
    "        \n",
    "        sample_ids = np.concatenate([train_ids, test_ids, verify_ids]).reshape(-1)\n",
    "        \n",
    "        train_geno = geno[geno[\"sample\"].isin(sample_ids)]\n",
    "        \n",
    "        train_phenos = phenotypes[phenotypes[\"eid\"].isin(sample_ids)]\n",
    "        \n",
    "    # Replace NaN with the most common value for alleles\n",
    "    \n",
    "    if remove_nan:\n",
    "        \n",
    "        flattened_geno = np.ndarray.flatten(train_geno.values)\n",
    "        \n",
    "        most_common_value = np.bincount(flattened_geno).argmax()\n",
    "        \n",
    "        geno.values[np.isnan(train_geno.values)] = most_common_value\n",
    "        \n",
    "    # Obtain the object of SNV token matrix\n",
    "    \n",
    "    snv_toks = Tokenised_SNV(geno, encoding)\n",
    "    \n",
    "    return snv_toks, phenotypes\n",
    "    "
   ]
  },
  {
   "cell_type": "markdown",
   "id": "4ab8bfd2",
   "metadata": {},
   "source": [
    "## Obtain summary statistics for the SNV and phenotype datasets"
   ]
  },
  {
   "cell_type": "code",
   "execution_count": 6,
   "id": "4d3a88e3",
   "metadata": {},
   "outputs": [],
   "source": [
    "def summarise_snv_data():\n",
    "    \n",
    "    bed_file = \"test_logical.bed\"\n",
    "    \n",
    "    bim_file = \"test_logical.bim\"\n",
    "    \n",
    "    fam_file = \"test_logical.fam\"\n",
    "    \n",
    "    # Load in genomic files containing SNV data\n",
    "    \n",
    "    geno = read_plink1_bin(bed_file, bim_file, fam_file)\n",
    "    \n",
    "    # Load in the phenotype information\n",
    "    \n",
    "    phenotypes = pd.read_csv(\"logical_sim_phenos.csv\")\n",
    "    \n",
    "    # The total count\n",
    "    \n",
    "    total_num = len(geno.values.reshape(-1))\n",
    "    \n",
    "    # Count of the numbers and proportion of each value, including NaN\n",
    "    \n",
    "    # 0's\n",
    "    \n",
    "    num_zeroes = np.sum(geno.values == 0)\n",
    "    \n",
    "    prop_zeroes = 100.0 * num_zeroes / total_num\n",
    "    \n",
    "    # 1's\n",
    "    \n",
    "    num_ones = np.sum(geno.values == 1)\n",
    "    \n",
    "    prop_ones = 100.0 * num_ones / total_num\n",
    "    \n",
    "    # 2's\n",
    "    \n",
    "    num_twos = np.sum(geno.values == 2)\n",
    "    \n",
    "    prop_twos = 100.0 * num_twos / total_num\n",
    "    \n",
    "    # NaN's\n",
    "    \n",
    "    num_nans = np.sum(np.isnan(geno.values))\n",
    "    \n",
    "    prop_nans = num_nans / total_num\n",
    "    \n",
    "    print(f\"The proportion of 0's in the genomic dataset is {prop_zeroes:.2f} %\")\n",
    "    \n",
    "    print(f\"The proportion of 1's in the genomic dataset is {prop_ones:.2f} %\")\n",
    "    \n",
    "    print(f\"The proportion of 2's in the genomic dataset is {prop_twos:.2f} %\")\n",
    "    \n",
    "    print(f\"The proportion of NaN's in the genomic dataset is {prop_nans:.2f} %\")\n",
    "    \n",
    "    # Count the number & proportion of having gout\n",
    "    \n",
    "    num_gout = np.sum(phenotypes.gout)\n",
    "    \n",
    "    prop_gout = num_gout / len(phenotypes)\n",
    "    \n",
    "    print(f\"The proportion of having gout is {prop_gout:.2f}\")"
   ]
  },
  {
   "cell_type": "code",
   "execution_count": 7,
   "id": "72d57b25",
   "metadata": {},
   "outputs": [
    {
     "name": "stderr",
     "output_type": "stream",
     "text": [
      "Mapping files: 100%|█████████████████████████████████████████████████████████████████████| 3/3 [00:00<00:00, 54.56it/s]\n"
     ]
    },
    {
     "name": "stdout",
     "output_type": "stream",
     "text": [
      "The proportion of 0's in the genomic dataset is 33.34 %\n",
      "The proportion of 1's in the genomic dataset is 33.34 %\n",
      "The proportion of 2's in the genomic dataset is 33.32 %\n",
      "The proportion of NaN's in the genomic dataset is 0.00 %\n",
      "The proportion of having gout is 0.41\n"
     ]
    }
   ],
   "source": [
    "summarise_snv_data()"
   ]
  },
  {
   "cell_type": "code",
   "execution_count": 8,
   "id": "07b7d094",
   "metadata": {},
   "outputs": [
    {
     "name": "stderr",
     "output_type": "stream",
     "text": [
      "Mapping files: 100%|█████████████████████████████████████████████████████████████████████| 3/3 [00:00<00:00, 54.58it/s]\n"
     ]
    }
   ],
   "source": [
    "bed_file = \"test_logical.bed\"\n",
    "    \n",
    "bim_file = \"test_logical.bim\"\n",
    "    \n",
    "fam_file = \"test_logical.fam\"\n",
    "    \n",
    "# Load in genomic files containing SNV data\n",
    "    \n",
    "test_geno = read_plink1_bin(bed_file, bim_file, fam_file)"
   ]
  },
  {
   "cell_type": "code",
   "execution_count": 9,
   "id": "01b930c1",
   "metadata": {},
   "outputs": [
    {
     "data": {
      "text/plain": [
       "(10000, 2000)"
      ]
     },
     "execution_count": 9,
     "metadata": {},
     "output_type": "execute_result"
    }
   ],
   "source": [
    "test_geno.shape"
   ]
  },
  {
   "cell_type": "code",
   "execution_count": 10,
   "id": "b30b2dee",
   "metadata": {},
   "outputs": [
    {
     "data": {
      "text/plain": [
       "array([[1., 1., 2., ..., 0., 2., 2.],\n",
       "       [2., 2., 0., ..., 1., 1., 0.],\n",
       "       [1., 1., 1., ..., 2., 1., 0.],\n",
       "       ...,\n",
       "       [0., 2., 2., ..., 1., 1., 2.],\n",
       "       [2., 2., 0., ..., 2., 2., 1.],\n",
       "       [1., 0., 1., ..., 0., 2., 1.]], dtype=float32)"
      ]
     },
     "execution_count": 10,
     "metadata": {},
     "output_type": "execute_result"
    }
   ],
   "source": [
    "test_geno.values"
   ]
  },
  {
   "cell_type": "code",
   "execution_count": null,
   "id": "0dd1f212",
   "metadata": {},
   "outputs": [],
   "source": []
  },
  {
   "cell_type": "code",
   "execution_count": null,
   "id": "3dc220f8",
   "metadata": {},
   "outputs": [],
   "source": []
  },
  {
   "cell_type": "markdown",
   "id": "0f09ab4c",
   "metadata": {},
   "source": [
    "## Obtain IDs for training, testing and verifying set\n",
    "\n",
    "## (To ensure equal representation of gout/non-gout proportions in each set)"
   ]
  },
  {
   "cell_type": "code",
   "execution_count": 11,
   "id": "d9530ff7",
   "metadata": {},
   "outputs": [],
   "source": [
    "test_phenons = pd.read_csv(\"logical_sim_phenos.csv\")"
   ]
  },
  {
   "cell_type": "code",
   "execution_count": 12,
   "id": "c3390b38",
   "metadata": {},
   "outputs": [
    {
     "data": {
      "text/html": [
       "<div>\n",
       "<style scoped>\n",
       "    .dataframe tbody tr th:only-of-type {\n",
       "        vertical-align: middle;\n",
       "    }\n",
       "\n",
       "    .dataframe tbody tr th {\n",
       "        vertical-align: top;\n",
       "    }\n",
       "\n",
       "    .dataframe thead th {\n",
       "        text-align: right;\n",
       "    }\n",
       "</style>\n",
       "<table border=\"1\" class=\"dataframe\">\n",
       "  <thead>\n",
       "    <tr style=\"text-align: right;\">\n",
       "      <th></th>\n",
       "      <th>Unnamed: 0</th>\n",
       "      <th>age</th>\n",
       "      <th>sex</th>\n",
       "      <th>bmi</th>\n",
       "      <th>height</th>\n",
       "      <th>gout</th>\n",
       "      <th>eid</th>\n",
       "      <th>urate</th>\n",
       "    </tr>\n",
       "  </thead>\n",
       "  <tbody>\n",
       "    <tr>\n",
       "      <th>0</th>\n",
       "      <td>0</td>\n",
       "      <td>47</td>\n",
       "      <td>Female</td>\n",
       "      <td>20.046436</td>\n",
       "      <td>138.376848</td>\n",
       "      <td>False</td>\n",
       "      <td>0</td>\n",
       "      <td>-1.491421</td>\n",
       "    </tr>\n",
       "    <tr>\n",
       "      <th>1</th>\n",
       "      <td>1</td>\n",
       "      <td>43</td>\n",
       "      <td>Male</td>\n",
       "      <td>28.781378</td>\n",
       "      <td>134.027385</td>\n",
       "      <td>True</td>\n",
       "      <td>1</td>\n",
       "      <td>-3.658668</td>\n",
       "    </tr>\n",
       "    <tr>\n",
       "      <th>2</th>\n",
       "      <td>2</td>\n",
       "      <td>58</td>\n",
       "      <td>Female</td>\n",
       "      <td>24.268563</td>\n",
       "      <td>183.125706</td>\n",
       "      <td>True</td>\n",
       "      <td>2</td>\n",
       "      <td>-2.546383</td>\n",
       "    </tr>\n",
       "    <tr>\n",
       "      <th>3</th>\n",
       "      <td>3</td>\n",
       "      <td>38</td>\n",
       "      <td>Male</td>\n",
       "      <td>31.204586</td>\n",
       "      <td>159.249847</td>\n",
       "      <td>False</td>\n",
       "      <td>3</td>\n",
       "      <td>-2.967442</td>\n",
       "    </tr>\n",
       "    <tr>\n",
       "      <th>4</th>\n",
       "      <td>4</td>\n",
       "      <td>44</td>\n",
       "      <td>Female</td>\n",
       "      <td>32.034737</td>\n",
       "      <td>196.405684</td>\n",
       "      <td>False</td>\n",
       "      <td>4</td>\n",
       "      <td>-0.307320</td>\n",
       "    </tr>\n",
       "  </tbody>\n",
       "</table>\n",
       "</div>"
      ],
      "text/plain": [
       "   Unnamed: 0  age     sex        bmi      height   gout  eid     urate\n",
       "0           0   47  Female  20.046436  138.376848  False    0 -1.491421\n",
       "1           1   43    Male  28.781378  134.027385   True    1 -3.658668\n",
       "2           2   58  Female  24.268563  183.125706   True    2 -2.546383\n",
       "3           3   38    Male  31.204586  159.249847  False    3 -2.967442\n",
       "4           4   44  Female  32.034737  196.405684  False    4 -0.307320"
      ]
     },
     "execution_count": 12,
     "metadata": {},
     "output_type": "execute_result"
    }
   ],
   "source": [
    "test_phenons.head()"
   ]
  },
  {
   "cell_type": "code",
   "execution_count": 13,
   "id": "735fce31",
   "metadata": {},
   "outputs": [
    {
     "name": "stderr",
     "output_type": "stream",
     "text": [
      "Mapping files: 100%|█████████████████████████████████████████████████████████████████████| 3/3 [00:00<00:00, 54.56it/s]\n"
     ]
    }
   ],
   "source": [
    "bed_file = \"test_logical.bed\"\n",
    "    \n",
    "bim_file = \"test_logical.bim\"\n",
    "    \n",
    "fam_file = \"test_logical.fam\"\n",
    "    \n",
    "# Load in genomic files containing SNV data\n",
    "    \n",
    "fun_geno = read_plink1_bin(bed_file, bim_file, fam_file)\n",
    "    \n",
    "# Load in the phenotype information\n",
    "    \n",
    "fun_phenons = pd.read_csv(\"logical_sim_phenos.csv\")"
   ]
  },
  {
   "cell_type": "code",
   "execution_count": 14,
   "id": "d5e85ba7",
   "metadata": {},
   "outputs": [],
   "source": [
    "def get_ids_each_set(phenos_set, test_prop, verify_prop):\n",
    "    \n",
    "    # Check if csv files of IDs in each set have been created\n",
    "    \n",
    "    if os.path.isfile(\"training_ids.csv\") and os.path.isfile(\"testing_ids.csv\") and os.path.isfile(\"verifying_ids.csv\"):\n",
    "        \n",
    "        training_ids_df = pd.read_csv(\"training_ids.csv\")\n",
    "        \n",
    "        testing_ids_df = pd.read_csv(\"testing_ids.csv\")\n",
    "        \n",
    "        verifying_ids_df = pd.read_csv(\"verifying_ids.csv\")\n",
    "        \n",
    "    else:\n",
    "    \n",
    "        gout = phenos_set[phenos_set[\"gout\"]]\n",
    "    \n",
    "        non_gout = phenos_set[~phenos_set[\"gout\"]]\n",
    "    \n",
    "        # Random shuffle\n",
    "    \n",
    "        gout = gout.sample(frac = 1)\n",
    "    \n",
    "        non_gout = non_gout.sample(frac = 1)\n",
    "    \n",
    "        # Obtain IDs for training, testing and verifying sets of having gout dataframe\n",
    "    \n",
    "        verify_num_gout = math.ceil(verify_prop*len(gout))\n",
    "    \n",
    "        verify_test_num_gout = math.ceil((test_prop + verify_prop)*len(gout))\n",
    "    \n",
    "        verify_gout, test_gout, train_gout = np.split(gout, [verify_num_gout, verify_test_num_gout])\n",
    "    \n",
    "        verify_gout_ids = np.array(verify_gout.eid)\n",
    "    \n",
    "        test_gout_ids = np.array(test_gout.eid)\n",
    "    \n",
    "        train_gout_ids = np.array(train_gout.eid)\n",
    "    \n",
    "        # Obtain IDs for training, testing and verifying sets of non-gout dataframe\n",
    "    \n",
    "        verify_num_non_gout = math.ceil(verify_prop*len(non_gout))\n",
    "    \n",
    "        verify_test_num_non_gout = math.ceil((test_prop + verify_prop)*len(non_gout))\n",
    "    \n",
    "        verify_non_gout, test_non_gout, train_non_gout = np.split(non_gout, [verify_num_non_gout, verify_test_num_non_gout])\n",
    "    \n",
    "        verify_non_gout_ids = np.array(verify_non_gout.eid)\n",
    "    \n",
    "        test_non_gout_ids = np.array(test_non_gout.eid)\n",
    "    \n",
    "        train_non_gout_ids = np.array(train_non_gout.eid)\n",
    "    \n",
    "        # Concatenate gout and non-gout sets of IDs\n",
    "        \n",
    "        ## Training IDs set\n",
    "    \n",
    "        training_ids = np.concatenate((train_gout_ids, train_non_gout_ids))\n",
    "    \n",
    "        training_ids.sort()\n",
    "        \n",
    "        ## Testing IDs set\n",
    "    \n",
    "        testing_ids = np.concatenate((test_gout_ids, test_non_gout_ids))\n",
    "    \n",
    "        testing_ids.sort()\n",
    "        \n",
    "        ## Verifying IDs set\n",
    "    \n",
    "        verifying_ids = np.concatenate((verify_gout_ids, verify_non_gout_ids))\n",
    "\n",
    "        verifying_ids.sort()\n",
    "    \n",
    "        # Convert to Pandas DataFrame and save the 3 sets of IDs to csv file\n",
    "        \n",
    "        ## Training IDs set\n",
    "    \n",
    "        training_ids_df = pd.DataFrame(training_ids)\n",
    "    \n",
    "        training_ids_df.to_csv(\"./training_ids.csv\", header = [\"ID\"], index = False)\n",
    "        \n",
    "        ## Testing IDs set\n",
    "    \n",
    "        testing_ids_df = pd.DataFrame(testing_ids)\n",
    "    \n",
    "        testing_ids_df.to_csv(\"./testing_ids.csv\", header = [\"ID\"], index = False)\n",
    "        \n",
    "        ## Verifying IDs set\n",
    "    \n",
    "        verifying_ids_df = pd.DataFrame(verifying_ids)\n",
    "    \n",
    "        verifying_ids_df.to_csv(\"./verifying_ids.csv\", header = [\"ID\"], index = False)\n",
    "        \n",
    "    # Obtain the IDs for training, testing and verifying sets\n",
    "        \n",
    "    train_ids = np.array(training_ids_df).reshape(-1)\n",
    "    \n",
    "    test_ids = np.array(testing_ids_df).reshape(-1)\n",
    "    \n",
    "    verify_ids = np.array(verifying_ids_df).reshape(-1)\n",
    "    \n",
    "    return train_ids, test_ids, verify_ids"
   ]
  },
  {
   "cell_type": "markdown",
   "id": "99b48811",
   "metadata": {},
   "source": [
    "## Mapping Genome IDs to Positions within the Genome Dataset"
   ]
  },
  {
   "cell_type": "code",
   "execution_count": 15,
   "id": "31682158",
   "metadata": {},
   "outputs": [],
   "source": [
    "def convert_id_to_position(id_array, all_ids):\n",
    "    \n",
    "    id_to_position = {}\n",
    "    \n",
    "    for pos, val in enumerate(all_ids):\n",
    "        \n",
    "        id_to_position[val] = pos\n",
    "        \n",
    "    position_list = [id_to_position[str(val)] for val in id_array]\n",
    "        \n",
    "    return np.array(position_list)"
   ]
  },
  {
   "cell_type": "markdown",
   "id": "ec977f3d",
   "metadata": {},
   "source": [
    "## Function to convert dataframe of phenotypes into Pytorch tensor object"
   ]
  },
  {
   "cell_type": "code",
   "execution_count": 16,
   "id": "4d94383c",
   "metadata": {},
   "outputs": [],
   "source": [
    "def convert_pd_to_tensor(phenos_df):\n",
    "    \n",
    "    df = phenos_df[[\"age\", \"sex\", \"bmi\", \"height\", \"urate\"]]\n",
    "    \n",
    "    # Encoding sex: Male = 1 ; Female = 2\n",
    "\n",
    "    df['encoded_sex'] = np.select([df['sex'] == \"Male\" , df['sex'] == \"Female\"], [1, 2])\n",
    "    \n",
    "    # Dropping the original sex column\n",
    "    \n",
    "    df = df.drop('sex', axis=1)\n",
    "    \n",
    "    # Converting the dataframe into Pytorch tensor object\n",
    "    \n",
    "    phenos_tensor = torch.Tensor(list(df.values))\n",
    "    \n",
    "    return phenos_tensor"
   ]
  },
  {
   "cell_type": "markdown",
   "id": "44349a76",
   "metadata": {},
   "source": [
    "## Obtain the training, testing & verifying datasets"
   ]
  },
  {
   "cell_type": "code",
   "execution_count": 17,
   "id": "ad7793c0",
   "metadata": {},
   "outputs": [],
   "source": [
    "def get_train_test_verify_data(phenos_set, tokenised_snv_object, test_prop, verify_prop):\n",
    "    \n",
    "    # Obtain arrays consisting of IDs in each set\n",
    "    \n",
    "    train_ids, test_ids, verify_ids = get_ids_each_set(phenos_set, test_prop, verify_prop)\n",
    "    \n",
    "    # Obtain arrays consisting of positions corresponding to IDs in each set\n",
    "    \n",
    "    train_pos = convert_id_to_position(train_ids, tokenised_snv_object.ids)\n",
    "    \n",
    "    test_pos = convert_id_to_position(test_ids, tokenised_snv_object.ids)\n",
    "    \n",
    "    verify_pos = convert_id_to_position(verify_ids, tokenised_snv_object.ids)\n",
    "    \n",
    "    # Obtain training, testing & verifying sets of tokenised SNVs + having-gout-or-not\n",
    "    \n",
    "    ## Training gout and tokenised SNV set\n",
    "    \n",
    "    train_gout = torch.Tensor(phenos_set[phenos_set.eid.isin(train_ids)].gout.values).long()\n",
    "    \n",
    "    train_snv = tokenised_snv_object.token_matrix[train_pos, ]\n",
    "    \n",
    "    ## Testing gout and tokenised SNV set\n",
    "    \n",
    "    test_gout = torch.Tensor(phenos_set[phenos_set.eid.isin(test_ids)].gout.values).long()\n",
    "    \n",
    "    test_snv = tokenised_snv_object.token_matrix[test_pos, ]\n",
    "    \n",
    "    ## Verifying gout and tokenised SNV set\n",
    "    \n",
    "    verify_gout = torch.Tensor(phenos_set[phenos_set.eid.isin(verify_ids)].gout.values).long()\n",
    "    \n",
    "    verify_snv = tokenised_snv_object.token_matrix[verify_pos, ]\n",
    "    \n",
    "    # Convert training, testing and verifying phenotypes dataframe into Pytorch Tensor Object\n",
    "    \n",
    "    ## Training phenotypes set\n",
    "    \n",
    "    train_phenos_df = phenos_set[phenos_set.eid.isin(train_ids)]\n",
    "    \n",
    "    train_phenos_ts = convert_pd_to_tensor(train_phenos_df)\n",
    "    \n",
    "    ## Testing phenotypes set\n",
    "    \n",
    "    test_phenos_df = phenos_set[phenos_set.eid.isin(test_ids)]\n",
    "    \n",
    "    test_phenos_ts = convert_pd_to_tensor(test_phenos_df)    \n",
    "    \n",
    "    ## Verifying phenotypes set\n",
    "    \n",
    "    verify_phenos_df = phenos_set[phenos_set.eid.isin(verify_ids)]\n",
    "    \n",
    "    verify_phenos_ts = convert_pd_to_tensor(verify_phenos_df)   \n",
    "    \n",
    "    ## Obtain the complete datasets of tokenised SNVs, gout and phenotypes\n",
    "    \n",
    "    # training_ts = torch.cat((train_snv, train_phenos_ts), 1)\n",
    "    \n",
    "    # testing_ts = torch.cat((test_snv, test_phenos_ts), 1)\n",
    "    \n",
    "    # verifying_ts = torch.cat((verify_snv, verify_phenos_ts), 1)\n",
    "    \n",
    "    return train_snv, train_phenos_ts, train_gout, test_snv, test_phenos_ts, test_gout, verify_snv, verify_phenos_ts, verify_gout\n"
   ]
  },
  {
   "cell_type": "code",
   "execution_count": 18,
   "id": "f3726995",
   "metadata": {},
   "outputs": [
    {
     "data": {
      "text/html": [
       "<div>\n",
       "<style scoped>\n",
       "    .dataframe tbody tr th:only-of-type {\n",
       "        vertical-align: middle;\n",
       "    }\n",
       "\n",
       "    .dataframe tbody tr th {\n",
       "        vertical-align: top;\n",
       "    }\n",
       "\n",
       "    .dataframe thead th {\n",
       "        text-align: right;\n",
       "    }\n",
       "</style>\n",
       "<table border=\"1\" class=\"dataframe\">\n",
       "  <thead>\n",
       "    <tr style=\"text-align: right;\">\n",
       "      <th></th>\n",
       "      <th>Unnamed: 0</th>\n",
       "      <th>age</th>\n",
       "      <th>sex</th>\n",
       "      <th>bmi</th>\n",
       "      <th>height</th>\n",
       "      <th>gout</th>\n",
       "      <th>eid</th>\n",
       "      <th>urate</th>\n",
       "    </tr>\n",
       "  </thead>\n",
       "  <tbody>\n",
       "    <tr>\n",
       "      <th>0</th>\n",
       "      <td>0</td>\n",
       "      <td>47</td>\n",
       "      <td>Female</td>\n",
       "      <td>20.046436</td>\n",
       "      <td>138.376848</td>\n",
       "      <td>False</td>\n",
       "      <td>0</td>\n",
       "      <td>-1.491421</td>\n",
       "    </tr>\n",
       "    <tr>\n",
       "      <th>1</th>\n",
       "      <td>1</td>\n",
       "      <td>43</td>\n",
       "      <td>Male</td>\n",
       "      <td>28.781378</td>\n",
       "      <td>134.027385</td>\n",
       "      <td>True</td>\n",
       "      <td>1</td>\n",
       "      <td>-3.658668</td>\n",
       "    </tr>\n",
       "    <tr>\n",
       "      <th>2</th>\n",
       "      <td>2</td>\n",
       "      <td>58</td>\n",
       "      <td>Female</td>\n",
       "      <td>24.268563</td>\n",
       "      <td>183.125706</td>\n",
       "      <td>True</td>\n",
       "      <td>2</td>\n",
       "      <td>-2.546383</td>\n",
       "    </tr>\n",
       "    <tr>\n",
       "      <th>3</th>\n",
       "      <td>3</td>\n",
       "      <td>38</td>\n",
       "      <td>Male</td>\n",
       "      <td>31.204586</td>\n",
       "      <td>159.249847</td>\n",
       "      <td>False</td>\n",
       "      <td>3</td>\n",
       "      <td>-2.967442</td>\n",
       "    </tr>\n",
       "    <tr>\n",
       "      <th>4</th>\n",
       "      <td>4</td>\n",
       "      <td>44</td>\n",
       "      <td>Female</td>\n",
       "      <td>32.034737</td>\n",
       "      <td>196.405684</td>\n",
       "      <td>False</td>\n",
       "      <td>4</td>\n",
       "      <td>-0.307320</td>\n",
       "    </tr>\n",
       "  </tbody>\n",
       "</table>\n",
       "</div>"
      ],
      "text/plain": [
       "   Unnamed: 0  age     sex        bmi      height   gout  eid     urate\n",
       "0           0   47  Female  20.046436  138.376848  False    0 -1.491421\n",
       "1           1   43    Male  28.781378  134.027385   True    1 -3.658668\n",
       "2           2   58  Female  24.268563  183.125706   True    2 -2.546383\n",
       "3           3   38    Male  31.204586  159.249847  False    3 -2.967442\n",
       "4           4   44  Female  32.034737  196.405684  False    4 -0.307320"
      ]
     },
     "execution_count": 18,
     "metadata": {},
     "output_type": "execute_result"
    }
   ],
   "source": [
    "test_phenons.head()"
   ]
  },
  {
   "cell_type": "code",
   "execution_count": 19,
   "id": "827bb6d3",
   "metadata": {},
   "outputs": [],
   "source": [
    "test_ph = test_phenons[[\"age\", \"sex\", \"bmi\", \"height\", \"urate\"]]"
   ]
  },
  {
   "cell_type": "code",
   "execution_count": 20,
   "id": "7b942782",
   "metadata": {},
   "outputs": [
    {
     "data": {
      "text/html": [
       "<div>\n",
       "<style scoped>\n",
       "    .dataframe tbody tr th:only-of-type {\n",
       "        vertical-align: middle;\n",
       "    }\n",
       "\n",
       "    .dataframe tbody tr th {\n",
       "        vertical-align: top;\n",
       "    }\n",
       "\n",
       "    .dataframe thead th {\n",
       "        text-align: right;\n",
       "    }\n",
       "</style>\n",
       "<table border=\"1\" class=\"dataframe\">\n",
       "  <thead>\n",
       "    <tr style=\"text-align: right;\">\n",
       "      <th></th>\n",
       "      <th>age</th>\n",
       "      <th>sex</th>\n",
       "      <th>bmi</th>\n",
       "      <th>height</th>\n",
       "      <th>urate</th>\n",
       "    </tr>\n",
       "  </thead>\n",
       "  <tbody>\n",
       "    <tr>\n",
       "      <th>0</th>\n",
       "      <td>47</td>\n",
       "      <td>Female</td>\n",
       "      <td>20.046436</td>\n",
       "      <td>138.376848</td>\n",
       "      <td>-1.491421</td>\n",
       "    </tr>\n",
       "    <tr>\n",
       "      <th>1</th>\n",
       "      <td>43</td>\n",
       "      <td>Male</td>\n",
       "      <td>28.781378</td>\n",
       "      <td>134.027385</td>\n",
       "      <td>-3.658668</td>\n",
       "    </tr>\n",
       "    <tr>\n",
       "      <th>2</th>\n",
       "      <td>58</td>\n",
       "      <td>Female</td>\n",
       "      <td>24.268563</td>\n",
       "      <td>183.125706</td>\n",
       "      <td>-2.546383</td>\n",
       "    </tr>\n",
       "    <tr>\n",
       "      <th>3</th>\n",
       "      <td>38</td>\n",
       "      <td>Male</td>\n",
       "      <td>31.204586</td>\n",
       "      <td>159.249847</td>\n",
       "      <td>-2.967442</td>\n",
       "    </tr>\n",
       "    <tr>\n",
       "      <th>4</th>\n",
       "      <td>44</td>\n",
       "      <td>Female</td>\n",
       "      <td>32.034737</td>\n",
       "      <td>196.405684</td>\n",
       "      <td>-0.307320</td>\n",
       "    </tr>\n",
       "  </tbody>\n",
       "</table>\n",
       "</div>"
      ],
      "text/plain": [
       "   age     sex        bmi      height     urate\n",
       "0   47  Female  20.046436  138.376848 -1.491421\n",
       "1   43    Male  28.781378  134.027385 -3.658668\n",
       "2   58  Female  24.268563  183.125706 -2.546383\n",
       "3   38    Male  31.204586  159.249847 -2.967442\n",
       "4   44  Female  32.034737  196.405684 -0.307320"
      ]
     },
     "execution_count": 20,
     "metadata": {},
     "output_type": "execute_result"
    }
   ],
   "source": [
    "test_ph.head()"
   ]
  },
  {
   "cell_type": "code",
   "execution_count": 21,
   "id": "a6a773b4",
   "metadata": {},
   "outputs": [],
   "source": [
    "snv_object = Tokenised_SNV(test_geno, encoding = 5)"
   ]
  },
  {
   "cell_type": "code",
   "execution_count": 22,
   "id": "012fbd29",
   "metadata": {},
   "outputs": [
    {
     "data": {
      "text/plain": [
       "array(['0', '1', '2', ..., '9997', '9998', '9999'], dtype=object)"
      ]
     },
     "execution_count": 22,
     "metadata": {},
     "output_type": "execute_result"
    }
   ],
   "source": [
    "snv_object.ids"
   ]
  },
  {
   "cell_type": "code",
   "execution_count": 23,
   "id": "4ff8128e",
   "metadata": {},
   "outputs": [
    {
     "name": "stderr",
     "output_type": "stream",
     "text": [
      "C:\\Users\\tuanh\\AppData\\Local\\Temp\\ipykernel_24560\\2141829978.py:7: SettingWithCopyWarning: \n",
      "A value is trying to be set on a copy of a slice from a DataFrame.\n",
      "Try using .loc[row_indexer,col_indexer] = value instead\n",
      "\n",
      "See the caveats in the documentation: https://pandas.pydata.org/pandas-docs/stable/user_guide/indexing.html#returning-a-view-versus-a-copy\n",
      "  df['encoded_sex'] = np.select([df['sex'] == \"Male\" , df['sex'] == \"Female\"], [1, 2])\n",
      "C:\\Users\\tuanh\\AppData\\Local\\Temp\\ipykernel_24560\\2141829978.py:15: UserWarning: Creating a tensor from a list of numpy.ndarrays is extremely slow. Please consider converting the list to a single numpy.ndarray with numpy.array() before converting to a tensor. (Triggered internally at C:\\cb\\pytorch_1000000000000\\work\\torch\\csrc\\utils\\tensor_new.cpp:233.)\n",
      "  phenos_tensor = torch.Tensor(list(df.values))\n",
      "C:\\Users\\tuanh\\AppData\\Local\\Temp\\ipykernel_24560\\2141829978.py:7: SettingWithCopyWarning: \n",
      "A value is trying to be set on a copy of a slice from a DataFrame.\n",
      "Try using .loc[row_indexer,col_indexer] = value instead\n",
      "\n",
      "See the caveats in the documentation: https://pandas.pydata.org/pandas-docs/stable/user_guide/indexing.html#returning-a-view-versus-a-copy\n",
      "  df['encoded_sex'] = np.select([df['sex'] == \"Male\" , df['sex'] == \"Female\"], [1, 2])\n",
      "C:\\Users\\tuanh\\AppData\\Local\\Temp\\ipykernel_24560\\2141829978.py:7: SettingWithCopyWarning: \n",
      "A value is trying to be set on a copy of a slice from a DataFrame.\n",
      "Try using .loc[row_indexer,col_indexer] = value instead\n",
      "\n",
      "See the caveats in the documentation: https://pandas.pydata.org/pandas-docs/stable/user_guide/indexing.html#returning-a-view-versus-a-copy\n",
      "  df['encoded_sex'] = np.select([df['sex'] == \"Male\" , df['sex'] == \"Female\"], [1, 2])\n"
     ]
    }
   ],
   "source": [
    "tr_snv,tr_phenos,tr_gout,te_snv,te_phenos,te_gout,ve_snv,ve_phenos,ve_gout = get_train_test_verify_data(fun_phenons, snv_object, test_prop = 0.01, verify_prop = 0.00)"
   ]
  },
  {
   "cell_type": "code",
   "execution_count": null,
   "id": "1d9afa4e",
   "metadata": {},
   "outputs": [],
   "source": []
  },
  {
   "cell_type": "code",
   "execution_count": 23,
   "id": "d6f73e1b",
   "metadata": {},
   "outputs": [
    {
     "data": {
      "text/plain": [
       "array([0])"
      ]
     },
     "execution_count": 23,
     "metadata": {},
     "output_type": "execute_result"
    }
   ],
   "source": [
    "np.unique(test_geno.pos.values)"
   ]
  },
  {
   "cell_type": "code",
   "execution_count": 24,
   "id": "7a690bb1",
   "metadata": {},
   "outputs": [
    {
     "data": {
      "text/plain": [
       "array(['A', 'G', 'C', ..., 'T', 'T', 'A'], dtype=object)"
      ]
     },
     "execution_count": 24,
     "metadata": {},
     "output_type": "execute_result"
    }
   ],
   "source": [
    "test_geno.a0.values"
   ]
  },
  {
   "cell_type": "code",
   "execution_count": 25,
   "id": "e3bd3570",
   "metadata": {},
   "outputs": [
    {
     "data": {
      "text/plain": [
       "array(['C', 'A', 'C', ..., 'G', 'T', 'A'], dtype=object)"
      ]
     },
     "execution_count": 25,
     "metadata": {},
     "output_type": "execute_result"
    }
   ],
   "source": [
    "test_geno.a1.values"
   ]
  },
  {
   "cell_type": "code",
   "execution_count": 26,
   "id": "fcc6b040",
   "metadata": {},
   "outputs": [
    {
     "data": {
      "text/plain": [
       "array([[1., 1., 2., ..., 0., 2., 2.],\n",
       "       [2., 2., 0., ..., 1., 1., 0.],\n",
       "       [1., 1., 1., ..., 2., 1., 0.],\n",
       "       ...,\n",
       "       [0., 2., 2., ..., 1., 1., 2.],\n",
       "       [2., 2., 0., ..., 2., 2., 1.],\n",
       "       [1., 0., 1., ..., 0., 2., 1.]], dtype=float32)"
      ]
     },
     "execution_count": 26,
     "metadata": {},
     "output_type": "execute_result"
    }
   ],
   "source": [
    "test_geno.values"
   ]
  },
  {
   "cell_type": "code",
   "execution_count": 29,
   "id": "70f14763",
   "metadata": {},
   "outputs": [],
   "source": [
    "train_ids, test_ids, verify_ids = get_ids_each_set(fun_phenons, test_prop = 0.25, verify_prop = 0.05)"
   ]
  },
  {
   "cell_type": "code",
   "execution_count": 30,
   "id": "9382ca1c",
   "metadata": {},
   "outputs": [
    {
     "data": {
      "text/plain": [
       "array([   1,    3,    5, ..., 9994, 9995, 9996], dtype=int64)"
      ]
     },
     "execution_count": 30,
     "metadata": {},
     "output_type": "execute_result"
    }
   ],
   "source": [
    "train_ids"
   ]
  },
  {
   "cell_type": "code",
   "execution_count": 31,
   "id": "2631c6c3",
   "metadata": {},
   "outputs": [
    {
     "data": {
      "text/plain": [
       "(2500,)"
      ]
     },
     "execution_count": 31,
     "metadata": {},
     "output_type": "execute_result"
    }
   ],
   "source": [
    "test_ids.shape"
   ]
  },
  {
   "cell_type": "code",
   "execution_count": 32,
   "id": "b7504e64",
   "metadata": {},
   "outputs": [
    {
     "data": {
      "text/plain": [
       "(501,)"
      ]
     },
     "execution_count": 32,
     "metadata": {},
     "output_type": "execute_result"
    }
   ],
   "source": [
    "verify_ids.shape"
   ]
  },
  {
   "cell_type": "code",
   "execution_count": 44,
   "id": "7e816fe6",
   "metadata": {},
   "outputs": [
    {
     "data": {
      "text/plain": [
       "tensor([[ 5,  3,  5,  ..., 17, 18,  3],\n",
       "        [ 5,  3,  5,  ..., 17,  6, 10],\n",
       "        [ 5,  4,  9,  ...,  4, 18, 10],\n",
       "        [ 5,  4,  9,  ...,  6,  6,  3],\n",
       "        [ 3,  8,  5,  ..., 17, 18,  3]], dtype=torch.int32)"
      ]
     },
     "execution_count": 44,
     "metadata": {},
     "output_type": "execute_result"
    }
   ],
   "source": [
    "tr_snv[0:5]"
   ]
  },
  {
   "cell_type": "code",
   "execution_count": 47,
   "id": "fd7dd624",
   "metadata": {},
   "outputs": [
    {
     "data": {
      "text/plain": [
       "tensor([[ 7,  8,  5,  ...,  6,  6,  3],\n",
       "        [ 7,  8,  9,  ...,  4, 18,  3],\n",
       "        [ 3,  3,  5,  ...,  6,  6,  3],\n",
       "        [ 3,  3,  5,  ..., 17,  6,  3],\n",
       "        [ 3,  3,  5,  ..., 17,  6,  3]], dtype=torch.int32)"
      ]
     },
     "execution_count": 47,
     "metadata": {},
     "output_type": "execute_result"
    }
   ],
   "source": [
    "te_snv[0:5]"
   ]
  },
  {
   "cell_type": "code",
   "execution_count": 49,
   "id": "124dd801",
   "metadata": {},
   "outputs": [],
   "source": [
    "import torch.nn as nn\n",
    "\n",
    "import torch.nn.functional as F"
   ]
  },
  {
   "cell_type": "code",
   "execution_count": 50,
   "id": "bbb3736f",
   "metadata": {},
   "outputs": [],
   "source": [
    "class One_Hot_Encoding(nn.Module):\n",
    "    \n",
    "    def __init__(self, num_classes: int):\n",
    "        \n",
    "        super().__init__()\n",
    "        \n",
    "        self.num_classes = num_classes\n",
    "        \n",
    "    def forward(self, input_ts):\n",
    "        \n",
    "        return F.one_hot(input_ts.long(), num_classes = self.num_classes)"
   ]
  },
  {
   "cell_type": "code",
   "execution_count": 51,
   "id": "a79e636e",
   "metadata": {},
   "outputs": [],
   "source": [
    "pros = One_Hot_Encoding(num_classes = 23)"
   ]
  },
  {
   "cell_type": "code",
   "execution_count": 61,
   "id": "6f58bd5b",
   "metadata": {},
   "outputs": [],
   "source": [
    "ax = pros(tr_snv)"
   ]
  },
  {
   "cell_type": "code",
   "execution_count": 66,
   "id": "820d7d1c",
   "metadata": {},
   "outputs": [],
   "source": [
    "torch.set_printoptions(threshold=10)"
   ]
  },
  {
   "cell_type": "code",
   "execution_count": 71,
   "id": "bc960add",
   "metadata": {},
   "outputs": [
    {
     "data": {
      "text/plain": [
       "torch.Size([6999, 2000])"
      ]
     },
     "execution_count": 71,
     "metadata": {},
     "output_type": "execute_result"
    }
   ],
   "source": [
    "tr_snv.shape"
   ]
  },
  {
   "cell_type": "code",
   "execution_count": 72,
   "id": "b3ee4976",
   "metadata": {},
   "outputs": [
    {
     "data": {
      "text/plain": [
       "torch.Size([6999, 2000, 23])"
      ]
     },
     "execution_count": 72,
     "metadata": {},
     "output_type": "execute_result"
    }
   ],
   "source": [
    "ax.shape"
   ]
  },
  {
   "cell_type": "code",
   "execution_count": 75,
   "id": "91e6b6f3",
   "metadata": {},
   "outputs": [
    {
     "data": {
      "text/plain": [
       "tensor([ 5,  3,  5,  ..., 17, 18,  3], dtype=torch.int32)"
      ]
     },
     "execution_count": 75,
     "metadata": {},
     "output_type": "execute_result"
    }
   ],
   "source": [
    "tr_snv[0]"
   ]
  },
  {
   "cell_type": "code",
   "execution_count": 86,
   "id": "64380843",
   "metadata": {},
   "outputs": [
    {
     "data": {
      "text/plain": [
       "tensor([0, 0, 0, 0, 0, 0, 0, 0, 0, 0, 0, 0, 0, 0, 0, 0, 0, 0, 1, 0, 0, 0, 0])"
      ]
     },
     "execution_count": 86,
     "metadata": {},
     "output_type": "execute_result"
    }
   ],
   "source": [
    "torch.set_printoptions(threshold=1000)\n",
    "\n",
    "ax[0][-2]"
   ]
  },
  {
   "cell_type": "code",
   "execution_count": 100,
   "id": "fb567ac9",
   "metadata": {},
   "outputs": [
    {
     "data": {
      "text/html": [
       "<div>\n",
       "<style scoped>\n",
       "    .dataframe tbody tr th:only-of-type {\n",
       "        vertical-align: middle;\n",
       "    }\n",
       "\n",
       "    .dataframe tbody tr th {\n",
       "        vertical-align: top;\n",
       "    }\n",
       "\n",
       "    .dataframe thead th {\n",
       "        text-align: right;\n",
       "    }\n",
       "</style>\n",
       "<table border=\"1\" class=\"dataframe\">\n",
       "  <thead>\n",
       "    <tr style=\"text-align: right;\">\n",
       "      <th></th>\n",
       "      <th>age</th>\n",
       "      <th>sex</th>\n",
       "      <th>bmi</th>\n",
       "      <th>height</th>\n",
       "      <th>gout</th>\n",
       "      <th>urate</th>\n",
       "    </tr>\n",
       "  </thead>\n",
       "  <tbody>\n",
       "    <tr>\n",
       "      <th>0</th>\n",
       "      <td>47</td>\n",
       "      <td>Female</td>\n",
       "      <td>20.046436</td>\n",
       "      <td>138.376848</td>\n",
       "      <td>False</td>\n",
       "      <td>-1.491421</td>\n",
       "    </tr>\n",
       "    <tr>\n",
       "      <th>1</th>\n",
       "      <td>43</td>\n",
       "      <td>Male</td>\n",
       "      <td>28.781378</td>\n",
       "      <td>134.027385</td>\n",
       "      <td>True</td>\n",
       "      <td>-3.658668</td>\n",
       "    </tr>\n",
       "    <tr>\n",
       "      <th>2</th>\n",
       "      <td>58</td>\n",
       "      <td>Female</td>\n",
       "      <td>24.268563</td>\n",
       "      <td>183.125706</td>\n",
       "      <td>True</td>\n",
       "      <td>-2.546383</td>\n",
       "    </tr>\n",
       "    <tr>\n",
       "      <th>3</th>\n",
       "      <td>38</td>\n",
       "      <td>Male</td>\n",
       "      <td>31.204586</td>\n",
       "      <td>159.249847</td>\n",
       "      <td>False</td>\n",
       "      <td>-2.967442</td>\n",
       "    </tr>\n",
       "    <tr>\n",
       "      <th>4</th>\n",
       "      <td>44</td>\n",
       "      <td>Female</td>\n",
       "      <td>32.034737</td>\n",
       "      <td>196.405684</td>\n",
       "      <td>False</td>\n",
       "      <td>-0.307320</td>\n",
       "    </tr>\n",
       "    <tr>\n",
       "      <th>...</th>\n",
       "      <td>...</td>\n",
       "      <td>...</td>\n",
       "      <td>...</td>\n",
       "      <td>...</td>\n",
       "      <td>...</td>\n",
       "      <td>...</td>\n",
       "    </tr>\n",
       "    <tr>\n",
       "      <th>9995</th>\n",
       "      <td>38</td>\n",
       "      <td>Female</td>\n",
       "      <td>21.260590</td>\n",
       "      <td>113.790969</td>\n",
       "      <td>False</td>\n",
       "      <td>-1.176638</td>\n",
       "    </tr>\n",
       "    <tr>\n",
       "      <th>9996</th>\n",
       "      <td>47</td>\n",
       "      <td>Male</td>\n",
       "      <td>32.446960</td>\n",
       "      <td>168.947474</td>\n",
       "      <td>False</td>\n",
       "      <td>-0.503730</td>\n",
       "    </tr>\n",
       "    <tr>\n",
       "      <th>9997</th>\n",
       "      <td>42</td>\n",
       "      <td>Female</td>\n",
       "      <td>28.356535</td>\n",
       "      <td>175.415825</td>\n",
       "      <td>True</td>\n",
       "      <td>-3.719973</td>\n",
       "    </tr>\n",
       "    <tr>\n",
       "      <th>9998</th>\n",
       "      <td>58</td>\n",
       "      <td>Male</td>\n",
       "      <td>24.583989</td>\n",
       "      <td>184.753297</td>\n",
       "      <td>False</td>\n",
       "      <td>-0.145249</td>\n",
       "    </tr>\n",
       "    <tr>\n",
       "      <th>9999</th>\n",
       "      <td>58</td>\n",
       "      <td>Female</td>\n",
       "      <td>27.746004</td>\n",
       "      <td>153.462292</td>\n",
       "      <td>True</td>\n",
       "      <td>-1.854303</td>\n",
       "    </tr>\n",
       "  </tbody>\n",
       "</table>\n",
       "<p>10000 rows × 6 columns</p>\n",
       "</div>"
      ],
      "text/plain": [
       "      age     sex        bmi      height   gout     urate\n",
       "0      47  Female  20.046436  138.376848  False -1.491421\n",
       "1      43    Male  28.781378  134.027385   True -3.658668\n",
       "2      58  Female  24.268563  183.125706   True -2.546383\n",
       "3      38    Male  31.204586  159.249847  False -2.967442\n",
       "4      44  Female  32.034737  196.405684  False -0.307320\n",
       "...   ...     ...        ...         ...    ...       ...\n",
       "9995   38  Female  21.260590  113.790969  False -1.176638\n",
       "9996   47    Male  32.446960  168.947474  False -0.503730\n",
       "9997   42  Female  28.356535  175.415825   True -3.719973\n",
       "9998   58    Male  24.583989  184.753297  False -0.145249\n",
       "9999   58  Female  27.746004  153.462292   True -1.854303\n",
       "\n",
       "[10000 rows x 6 columns]"
      ]
     },
     "execution_count": 100,
     "metadata": {},
     "output_type": "execute_result"
    }
   ],
   "source": [
    "test_phenons"
   ]
  },
  {
   "cell_type": "code",
   "execution_count": 101,
   "id": "fd7368f7",
   "metadata": {},
   "outputs": [
    {
     "name": "stderr",
     "output_type": "stream",
     "text": [
      "C:\\Users\\tuanh\\AppData\\Local\\Temp\\ipykernel_5096\\1805010914.py:1: SettingWithCopyWarning: \n",
      "A value is trying to be set on a copy of a slice from a DataFrame\n",
      "\n",
      "See the caveats in the documentation: https://pandas.pydata.org/pandas-docs/stable/user_guide/indexing.html#returning-a-view-versus-a-copy\n",
      "  test_phenons['sex'].replace(['Female', 'Male'], [0, 1], inplace=True)\n"
     ]
    }
   ],
   "source": [
    "test_phenons['sex'].replace(['Female', 'Male'], [0, 1], inplace=True)"
   ]
  },
  {
   "cell_type": "code",
   "execution_count": 102,
   "id": "363c9dfd",
   "metadata": {},
   "outputs": [],
   "source": [
    "test_phenons = test_phenons[[\"age\", \"sex\", \"bmi\", \"height\", \"gout\", \"urate\"]]"
   ]
  },
  {
   "cell_type": "code",
   "execution_count": 103,
   "id": "d8c6a19d",
   "metadata": {},
   "outputs": [
    {
     "data": {
      "text/html": [
       "<div>\n",
       "<style scoped>\n",
       "    .dataframe tbody tr th:only-of-type {\n",
       "        vertical-align: middle;\n",
       "    }\n",
       "\n",
       "    .dataframe tbody tr th {\n",
       "        vertical-align: top;\n",
       "    }\n",
       "\n",
       "    .dataframe thead th {\n",
       "        text-align: right;\n",
       "    }\n",
       "</style>\n",
       "<table border=\"1\" class=\"dataframe\">\n",
       "  <thead>\n",
       "    <tr style=\"text-align: right;\">\n",
       "      <th></th>\n",
       "      <th>age</th>\n",
       "      <th>sex</th>\n",
       "      <th>bmi</th>\n",
       "      <th>height</th>\n",
       "      <th>gout</th>\n",
       "      <th>urate</th>\n",
       "    </tr>\n",
       "  </thead>\n",
       "  <tbody>\n",
       "    <tr>\n",
       "      <th>0</th>\n",
       "      <td>47</td>\n",
       "      <td>0</td>\n",
       "      <td>20.046436</td>\n",
       "      <td>138.376848</td>\n",
       "      <td>False</td>\n",
       "      <td>-1.491421</td>\n",
       "    </tr>\n",
       "    <tr>\n",
       "      <th>1</th>\n",
       "      <td>43</td>\n",
       "      <td>1</td>\n",
       "      <td>28.781378</td>\n",
       "      <td>134.027385</td>\n",
       "      <td>True</td>\n",
       "      <td>-3.658668</td>\n",
       "    </tr>\n",
       "    <tr>\n",
       "      <th>2</th>\n",
       "      <td>58</td>\n",
       "      <td>0</td>\n",
       "      <td>24.268563</td>\n",
       "      <td>183.125706</td>\n",
       "      <td>True</td>\n",
       "      <td>-2.546383</td>\n",
       "    </tr>\n",
       "    <tr>\n",
       "      <th>3</th>\n",
       "      <td>38</td>\n",
       "      <td>1</td>\n",
       "      <td>31.204586</td>\n",
       "      <td>159.249847</td>\n",
       "      <td>False</td>\n",
       "      <td>-2.967442</td>\n",
       "    </tr>\n",
       "    <tr>\n",
       "      <th>4</th>\n",
       "      <td>44</td>\n",
       "      <td>0</td>\n",
       "      <td>32.034737</td>\n",
       "      <td>196.405684</td>\n",
       "      <td>False</td>\n",
       "      <td>-0.307320</td>\n",
       "    </tr>\n",
       "    <tr>\n",
       "      <th>...</th>\n",
       "      <td>...</td>\n",
       "      <td>...</td>\n",
       "      <td>...</td>\n",
       "      <td>...</td>\n",
       "      <td>...</td>\n",
       "      <td>...</td>\n",
       "    </tr>\n",
       "    <tr>\n",
       "      <th>9995</th>\n",
       "      <td>38</td>\n",
       "      <td>0</td>\n",
       "      <td>21.260590</td>\n",
       "      <td>113.790969</td>\n",
       "      <td>False</td>\n",
       "      <td>-1.176638</td>\n",
       "    </tr>\n",
       "    <tr>\n",
       "      <th>9996</th>\n",
       "      <td>47</td>\n",
       "      <td>1</td>\n",
       "      <td>32.446960</td>\n",
       "      <td>168.947474</td>\n",
       "      <td>False</td>\n",
       "      <td>-0.503730</td>\n",
       "    </tr>\n",
       "    <tr>\n",
       "      <th>9997</th>\n",
       "      <td>42</td>\n",
       "      <td>0</td>\n",
       "      <td>28.356535</td>\n",
       "      <td>175.415825</td>\n",
       "      <td>True</td>\n",
       "      <td>-3.719973</td>\n",
       "    </tr>\n",
       "    <tr>\n",
       "      <th>9998</th>\n",
       "      <td>58</td>\n",
       "      <td>1</td>\n",
       "      <td>24.583989</td>\n",
       "      <td>184.753297</td>\n",
       "      <td>False</td>\n",
       "      <td>-0.145249</td>\n",
       "    </tr>\n",
       "    <tr>\n",
       "      <th>9999</th>\n",
       "      <td>58</td>\n",
       "      <td>0</td>\n",
       "      <td>27.746004</td>\n",
       "      <td>153.462292</td>\n",
       "      <td>True</td>\n",
       "      <td>-1.854303</td>\n",
       "    </tr>\n",
       "  </tbody>\n",
       "</table>\n",
       "<p>10000 rows × 6 columns</p>\n",
       "</div>"
      ],
      "text/plain": [
       "      age  sex        bmi      height   gout     urate\n",
       "0      47    0  20.046436  138.376848  False -1.491421\n",
       "1      43    1  28.781378  134.027385   True -3.658668\n",
       "2      58    0  24.268563  183.125706   True -2.546383\n",
       "3      38    1  31.204586  159.249847  False -2.967442\n",
       "4      44    0  32.034737  196.405684  False -0.307320\n",
       "...   ...  ...        ...         ...    ...       ...\n",
       "9995   38    0  21.260590  113.790969  False -1.176638\n",
       "9996   47    1  32.446960  168.947474  False -0.503730\n",
       "9997   42    0  28.356535  175.415825   True -3.719973\n",
       "9998   58    1  24.583989  184.753297  False -0.145249\n",
       "9999   58    0  27.746004  153.462292   True -1.854303\n",
       "\n",
       "[10000 rows x 6 columns]"
      ]
     },
     "execution_count": 103,
     "metadata": {},
     "output_type": "execute_result"
    }
   ],
   "source": [
    "test_phenons"
   ]
  },
  {
   "cell_type": "code",
   "execution_count": 104,
   "id": "ddeae6b3",
   "metadata": {},
   "outputs": [
    {
     "data": {
      "text/html": [
       "<div>\n",
       "<style scoped>\n",
       "    .dataframe tbody tr th:only-of-type {\n",
       "        vertical-align: middle;\n",
       "    }\n",
       "\n",
       "    .dataframe tbody tr th {\n",
       "        vertical-align: top;\n",
       "    }\n",
       "\n",
       "    .dataframe thead th {\n",
       "        text-align: right;\n",
       "    }\n",
       "</style>\n",
       "<table border=\"1\" class=\"dataframe\">\n",
       "  <thead>\n",
       "    <tr style=\"text-align: right;\">\n",
       "      <th></th>\n",
       "      <th>age</th>\n",
       "      <th>sex</th>\n",
       "      <th>bmi</th>\n",
       "      <th>height</th>\n",
       "      <th>urate</th>\n",
       "    </tr>\n",
       "  </thead>\n",
       "  <tbody>\n",
       "    <tr>\n",
       "      <th>0</th>\n",
       "      <td>47</td>\n",
       "      <td>0</td>\n",
       "      <td>20.046436</td>\n",
       "      <td>138.376848</td>\n",
       "      <td>-1.491421</td>\n",
       "    </tr>\n",
       "    <tr>\n",
       "      <th>1</th>\n",
       "      <td>43</td>\n",
       "      <td>1</td>\n",
       "      <td>28.781378</td>\n",
       "      <td>134.027385</td>\n",
       "      <td>-3.658668</td>\n",
       "    </tr>\n",
       "    <tr>\n",
       "      <th>2</th>\n",
       "      <td>58</td>\n",
       "      <td>0</td>\n",
       "      <td>24.268563</td>\n",
       "      <td>183.125706</td>\n",
       "      <td>-2.546383</td>\n",
       "    </tr>\n",
       "    <tr>\n",
       "      <th>3</th>\n",
       "      <td>38</td>\n",
       "      <td>1</td>\n",
       "      <td>31.204586</td>\n",
       "      <td>159.249847</td>\n",
       "      <td>-2.967442</td>\n",
       "    </tr>\n",
       "    <tr>\n",
       "      <th>4</th>\n",
       "      <td>44</td>\n",
       "      <td>0</td>\n",
       "      <td>32.034737</td>\n",
       "      <td>196.405684</td>\n",
       "      <td>-0.307320</td>\n",
       "    </tr>\n",
       "    <tr>\n",
       "      <th>...</th>\n",
       "      <td>...</td>\n",
       "      <td>...</td>\n",
       "      <td>...</td>\n",
       "      <td>...</td>\n",
       "      <td>...</td>\n",
       "    </tr>\n",
       "    <tr>\n",
       "      <th>9995</th>\n",
       "      <td>38</td>\n",
       "      <td>0</td>\n",
       "      <td>21.260590</td>\n",
       "      <td>113.790969</td>\n",
       "      <td>-1.176638</td>\n",
       "    </tr>\n",
       "    <tr>\n",
       "      <th>9996</th>\n",
       "      <td>47</td>\n",
       "      <td>1</td>\n",
       "      <td>32.446960</td>\n",
       "      <td>168.947474</td>\n",
       "      <td>-0.503730</td>\n",
       "    </tr>\n",
       "    <tr>\n",
       "      <th>9997</th>\n",
       "      <td>42</td>\n",
       "      <td>0</td>\n",
       "      <td>28.356535</td>\n",
       "      <td>175.415825</td>\n",
       "      <td>-3.719973</td>\n",
       "    </tr>\n",
       "    <tr>\n",
       "      <th>9998</th>\n",
       "      <td>58</td>\n",
       "      <td>1</td>\n",
       "      <td>24.583989</td>\n",
       "      <td>184.753297</td>\n",
       "      <td>-0.145249</td>\n",
       "    </tr>\n",
       "    <tr>\n",
       "      <th>9999</th>\n",
       "      <td>58</td>\n",
       "      <td>0</td>\n",
       "      <td>27.746004</td>\n",
       "      <td>153.462292</td>\n",
       "      <td>-1.854303</td>\n",
       "    </tr>\n",
       "  </tbody>\n",
       "</table>\n",
       "<p>10000 rows × 5 columns</p>\n",
       "</div>"
      ],
      "text/plain": [
       "      age  sex        bmi      height     urate\n",
       "0      47    0  20.046436  138.376848 -1.491421\n",
       "1      43    1  28.781378  134.027385 -3.658668\n",
       "2      58    0  24.268563  183.125706 -2.546383\n",
       "3      38    1  31.204586  159.249847 -2.967442\n",
       "4      44    0  32.034737  196.405684 -0.307320\n",
       "...   ...  ...        ...         ...       ...\n",
       "9995   38    0  21.260590  113.790969 -1.176638\n",
       "9996   47    1  32.446960  168.947474 -0.503730\n",
       "9997   42    0  28.356535  175.415825 -3.719973\n",
       "9998   58    1  24.583989  184.753297 -0.145249\n",
       "9999   58    0  27.746004  153.462292 -1.854303\n",
       "\n",
       "[10000 rows x 5 columns]"
      ]
     },
     "execution_count": 104,
     "metadata": {},
     "output_type": "execute_result"
    }
   ],
   "source": [
    "data_df = test_phenons[[\"age\", \"sex\", \"bmi\", \"height\", \"urate\"]]\n",
    "\n",
    "data_df"
   ]
  },
  {
   "cell_type": "code",
   "execution_count": 105,
   "id": "0c77ec76",
   "metadata": {},
   "outputs": [
    {
     "data": {
      "text/html": [
       "<div>\n",
       "<style scoped>\n",
       "    .dataframe tbody tr th:only-of-type {\n",
       "        vertical-align: middle;\n",
       "    }\n",
       "\n",
       "    .dataframe tbody tr th {\n",
       "        vertical-align: top;\n",
       "    }\n",
       "\n",
       "    .dataframe thead th {\n",
       "        text-align: right;\n",
       "    }\n",
       "</style>\n",
       "<table border=\"1\" class=\"dataframe\">\n",
       "  <thead>\n",
       "    <tr style=\"text-align: right;\">\n",
       "      <th></th>\n",
       "      <th>gout</th>\n",
       "    </tr>\n",
       "  </thead>\n",
       "  <tbody>\n",
       "    <tr>\n",
       "      <th>0</th>\n",
       "      <td>False</td>\n",
       "    </tr>\n",
       "    <tr>\n",
       "      <th>1</th>\n",
       "      <td>True</td>\n",
       "    </tr>\n",
       "    <tr>\n",
       "      <th>2</th>\n",
       "      <td>True</td>\n",
       "    </tr>\n",
       "    <tr>\n",
       "      <th>3</th>\n",
       "      <td>False</td>\n",
       "    </tr>\n",
       "    <tr>\n",
       "      <th>4</th>\n",
       "      <td>False</td>\n",
       "    </tr>\n",
       "    <tr>\n",
       "      <th>...</th>\n",
       "      <td>...</td>\n",
       "    </tr>\n",
       "    <tr>\n",
       "      <th>9995</th>\n",
       "      <td>False</td>\n",
       "    </tr>\n",
       "    <tr>\n",
       "      <th>9996</th>\n",
       "      <td>False</td>\n",
       "    </tr>\n",
       "    <tr>\n",
       "      <th>9997</th>\n",
       "      <td>True</td>\n",
       "    </tr>\n",
       "    <tr>\n",
       "      <th>9998</th>\n",
       "      <td>False</td>\n",
       "    </tr>\n",
       "    <tr>\n",
       "      <th>9999</th>\n",
       "      <td>True</td>\n",
       "    </tr>\n",
       "  </tbody>\n",
       "</table>\n",
       "<p>10000 rows × 1 columns</p>\n",
       "</div>"
      ],
      "text/plain": [
       "       gout\n",
       "0     False\n",
       "1      True\n",
       "2      True\n",
       "3     False\n",
       "4     False\n",
       "...     ...\n",
       "9995  False\n",
       "9996  False\n",
       "9997   True\n",
       "9998  False\n",
       "9999   True\n",
       "\n",
       "[10000 rows x 1 columns]"
      ]
     },
     "execution_count": 105,
     "metadata": {},
     "output_type": "execute_result"
    }
   ],
   "source": [
    "lab_df = test_phenons[[\"gout\"]]\n",
    "\n",
    "lab_df"
   ]
  },
  {
   "cell_type": "code",
   "execution_count": 119,
   "id": "814c3556",
   "metadata": {},
   "outputs": [
    {
     "data": {
      "text/plain": [
       "tensor([[ 5,  3,  5,  ..., 17, 18,  3],\n",
       "        [ 5,  3,  5,  ..., 17,  6, 10],\n",
       "        [ 5,  4,  9,  ...,  4, 18, 10],\n",
       "        ...,\n",
       "        [ 3,  8,  5,  ...,  6,  6,  3],\n",
       "        [ 3,  8,  9,  ...,  6, 18,  3],\n",
       "        [ 3,  4,  5,  ..., 17, 18,  3]], dtype=torch.int32)"
      ]
     },
     "execution_count": 119,
     "metadata": {},
     "output_type": "execute_result"
    }
   ],
   "source": [
    "tr_snv"
   ]
  },
  {
   "cell_type": "code",
   "execution_count": 123,
   "id": "53d2dd6c",
   "metadata": {},
   "outputs": [],
   "source": [
    "np_tr_snv = tr_snv.numpy()\n",
    "\n",
    "np_tr_gout = tr_gout.numpy()\n",
    "\n",
    "np_te_snv = te_snv.numpy()\n",
    "\n",
    "np_te_gout = te_gout.numpy()"
   ]
  },
  {
   "cell_type": "code",
   "execution_count": 111,
   "id": "4b525a6f",
   "metadata": {},
   "outputs": [],
   "source": [
    "from sklearn.linear_model import LogisticRegression\n",
    "\n",
    "from sklearn.model_selection import train_test_split"
   ]
  },
  {
   "cell_type": "code",
   "execution_count": 125,
   "id": "c1ec0758",
   "metadata": {},
   "outputs": [],
   "source": [
    "X_train, X_test, y_train, y_test = train_test_split(np_tr_snv, np_tr_gout, test_size = .2)"
   ]
  },
  {
   "cell_type": "code",
   "execution_count": 126,
   "id": "c62fe401",
   "metadata": {},
   "outputs": [
    {
     "name": "stderr",
     "output_type": "stream",
     "text": [
      "C:\\Users\\tuanh\\anaconda3\\envs\\pytorch\\lib\\site-packages\\sklearn\\linear_model\\_logistic.py:444: ConvergenceWarning: lbfgs failed to converge (status=1):\n",
      "STOP: TOTAL NO. of ITERATIONS REACHED LIMIT.\n",
      "\n",
      "Increase the number of iterations (max_iter) or scale the data as shown in:\n",
      "    https://scikit-learn.org/stable/modules/preprocessing.html\n",
      "Please also refer to the documentation for alternative solver options:\n",
      "    https://scikit-learn.org/stable/modules/linear_model.html#logistic-regression\n",
      "  n_iter_i = _check_optimize_result(\n"
     ]
    }
   ],
   "source": [
    "model = LogisticRegression().fit(X_train, y_train) "
   ]
  },
  {
   "cell_type": "code",
   "execution_count": 127,
   "id": "83568abd",
   "metadata": {},
   "outputs": [
    {
     "data": {
      "text/plain": [
       "array([-0.00065923])"
      ]
     },
     "execution_count": 127,
     "metadata": {},
     "output_type": "execute_result"
    }
   ],
   "source": [
    "model.intercept_"
   ]
  },
  {
   "cell_type": "code",
   "execution_count": 128,
   "id": "16869e39",
   "metadata": {},
   "outputs": [
    {
     "data": {
      "text/plain": [
       "array([[-0.01757824, -0.03809569,  0.0025418 , ...,  0.01748201,\n",
       "         0.00501555, -0.03898065]])"
      ]
     },
     "execution_count": 128,
     "metadata": {},
     "output_type": "execute_result"
    }
   ],
   "source": [
    "model.coef_"
   ]
  },
  {
   "cell_type": "code",
   "execution_count": 129,
   "id": "bc01336a",
   "metadata": {},
   "outputs": [
    {
     "data": {
      "text/plain": [
       "array([1, 0, 0, ..., 1, 1, 0], dtype=int64)"
      ]
     },
     "execution_count": 129,
     "metadata": {},
     "output_type": "execute_result"
    }
   ],
   "source": [
    "y_pred = model.predict(X_test) \n",
    "\n",
    "y_pred "
   ]
  },
  {
   "cell_type": "code",
   "execution_count": 130,
   "id": "2c4417fe",
   "metadata": {},
   "outputs": [
    {
     "data": {
      "text/plain": [
       "array([0, 1], dtype=int64)"
      ]
     },
     "execution_count": 130,
     "metadata": {},
     "output_type": "execute_result"
    }
   ],
   "source": [
    "np.unique(y_pred)"
   ]
  },
  {
   "cell_type": "code",
   "execution_count": 132,
   "id": "eb539a1a",
   "metadata": {},
   "outputs": [
    {
     "name": "stdout",
     "output_type": "stream",
     "text": [
      "0.5721428571428572\n"
     ]
    }
   ],
   "source": [
    "score = model.score(X_test, y_test)\n",
    "print(score)"
   ]
  },
  {
   "cell_type": "code",
   "execution_count": 133,
   "id": "4b1ece83",
   "metadata": {},
   "outputs": [
    {
     "data": {
      "text/plain": [
       "array([0.62280702, 0.50498339])"
      ]
     },
     "execution_count": 133,
     "metadata": {},
     "output_type": "execute_result"
    }
   ],
   "source": [
    "from sklearn.metrics import confusion_matrix\n",
    "\n",
    "matrix = confusion_matrix(y_test, y_pred)\n",
    "\n",
    "matrix.diagonal()/matrix.sum(axis=1)"
   ]
  },
  {
   "cell_type": "code",
   "execution_count": 134,
   "id": "7135369f",
   "metadata": {},
   "outputs": [],
   "source": [
    "from sklearn.metrics import classification_report"
   ]
  },
  {
   "cell_type": "code",
   "execution_count": 138,
   "id": "bbb2822b",
   "metadata": {},
   "outputs": [
    {
     "name": "stdout",
     "output_type": "stream",
     "text": [
      "              precision    recall  f1-score   support\n",
      "\n",
      "       False     0.6252    0.6228    0.6240       798\n",
      "        True     0.5025    0.5050    0.5037       602\n",
      "\n",
      "    accuracy                         0.5721      1400\n",
      "   macro avg     0.5638    0.5639    0.5639      1400\n",
      "weighted avg     0.5724    0.5721    0.5723      1400\n",
      "\n"
     ]
    }
   ],
   "source": [
    "print(classification_report(y_test, y_pred, target_names = ['False', 'True'], digits=4))"
   ]
  },
  {
   "cell_type": "code",
   "execution_count": null,
   "id": "0742ebbb",
   "metadata": {},
   "outputs": [],
   "source": []
  }
 ],
 "metadata": {
  "kernelspec": {
   "display_name": "pytorch",
   "language": "python",
   "name": "pytorch"
  },
  "language_info": {
   "codemirror_mode": {
    "name": "ipython",
    "version": 3
   },
   "file_extension": ".py",
   "mimetype": "text/x-python",
   "name": "python",
   "nbconvert_exporter": "python",
   "pygments_lexer": "ipython3",
   "version": "3.9.15"
  }
 },
 "nbformat": 4,
 "nbformat_minor": 5
}
